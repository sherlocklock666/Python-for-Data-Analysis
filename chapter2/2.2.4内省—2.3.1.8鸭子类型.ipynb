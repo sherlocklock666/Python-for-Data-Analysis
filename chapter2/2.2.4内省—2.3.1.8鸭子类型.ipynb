{
 "cells": [
  {
   "cell_type": "code",
   "execution_count": 4,
   "id": "b15b8ea7",
   "metadata": {},
   "outputs": [],
   "source": [
    "b = [1, 2, 3]\n",
    "b?\n",
    "print?"
   ]
  },
  {
   "cell_type": "code",
   "execution_count": 9,
   "id": "b8ba7847",
   "metadata": {},
   "outputs": [],
   "source": [
    "def add_numbers(a, b):\n",
    "    \"\"\"add two numbers together\n",
    "    Returns\n",
    "    ------\n",
    "    the_sums : type of arguments\"\"\"\n",
    "    return a+b\n",
    "add_numbers?\n",
    "add_numbers??"
   ]
  },
  {
   "cell_type": "code",
   "execution_count": 13,
   "id": "de0315d8",
   "metadata": {},
   "outputs": [],
   "source": [
    "import numpy as np\n",
    "np.*load*?"
   ]
  },
  {
   "cell_type": "code",
   "execution_count": 15,
   "id": "99dfa94b",
   "metadata": {},
   "outputs": [],
   "source": [
    "%run ipython_script_test.py"
   ]
  },
  {
   "cell_type": "code",
   "execution_count": 16,
   "id": "3b04cc8d",
   "metadata": {},
   "outputs": [
    {
     "data": {
      "text/plain": [
       "7.5"
      ]
     },
     "execution_count": 16,
     "metadata": {},
     "output_type": "execute_result"
    }
   ],
   "source": [
    "c"
   ]
  },
  {
   "cell_type": "code",
   "execution_count": 17,
   "id": "34cb0e08",
   "metadata": {},
   "outputs": [
    {
     "data": {
      "text/plain": [
       "1.4666666666666666"
      ]
     },
     "execution_count": 17,
     "metadata": {},
     "output_type": "execute_result"
    }
   ],
   "source": [
    "result"
   ]
  },
  {
   "cell_type": "code",
   "execution_count": 25,
   "id": "f89f795f",
   "metadata": {},
   "outputs": [
    {
     "data": {
      "text/plain": [
       "14.133333333333333"
      ]
     },
     "execution_count": 25,
     "metadata": {},
     "output_type": "execute_result"
    }
   ],
   "source": [
    "# %load ipython_script_test.py\n",
    "def f(x, y, z):\n",
    "    return (x+y)/z\n",
    "a = 100\n",
    "b = 6\n",
    "c = 7.5\n",
    "\n",
    "result = f(a, b, c)\n",
    "\n",
    "result\n"
   ]
  },
  {
   "cell_type": "code",
   "execution_count": 54,
   "id": "6f1c6cff",
   "metadata": {},
   "outputs": [
    {
     "name": "stdout",
     "output_type": "stream",
     "text": [
      "48.7 µs ± 2 µs per loop (mean ± std. dev. of 7 runs, 10000 loops each)\n"
     ]
    }
   ],
   "source": [
    "a = np.random.randn(100, 100)\n",
    "%timeit np.dot(a, a)"
   ]
  },
  {
   "cell_type": "code",
   "execution_count": 71,
   "id": "ecaa0c10",
   "metadata": {},
   "outputs": [
    {
     "name": "stdout",
     "output_type": "stream",
     "text": [
      "b = [1, 2, 3]\n",
      "b = [1, 2, 3]\n",
      "b?\n",
      "b = [1, 2, 3]\n",
      "b?\n",
      "print?\n",
      "b = [1, 2, 3]\n",
      "b?\n",
      "print?\n",
      "def add_numbers(a, b):\n",
      "def add_numbers(a, b):\n",
      "    \"\"\"add two numbers together\n",
      "    Returns\n",
      "    ------\n",
      "    the_sums : type of arguments\"\"\"\n",
      "    return a+b\n",
      "def add_numbers(a, b):\n",
      "    \"\"\"add two numbers together\n",
      "    Returns\n",
      "    ------\n",
      "    the_sums : type of arguments\"\"\"\n",
      "    return a+b\n",
      "?\n",
      "def add_numbers(a, b):\n",
      "    \"\"\"add two numbers together\n",
      "    Returns\n",
      "    ------\n",
      "    the_sums : type of arguments\"\"\"\n",
      "    return a+b\n",
      "add_numbers?\n",
      "def add_numbers(a, b):\n",
      "    \"\"\"add two numbers together\n",
      "    Returns\n",
      "    ------\n",
      "    the_sums : type of arguments\"\"\"\n",
      "    return a+b\n",
      "add_numbers?\n",
      "add_numbers??\n",
      "np.*load*?\n",
      "np.*load*?\n",
      "np.*load*?\n",
      "import numpy as np\n",
      "np.*load*?\n",
      "%run ipython_script_test.py\n",
      "%run ipython_script_test.py\n",
      "c\n",
      "result\n",
      "a = 100\n",
      "%run -a ipython_script_test.py\n",
      "a = 100\n",
      "%run -i ipython_script_test.py\n",
      "a = 100\n",
      "%run -i ipython_script_test.py\n",
      "result\n",
      "a = 100\n",
      "%run -i ipython_script_test.py\n",
      "result\n",
      "a\n",
      "a = 100\n",
      "%run  ipython_script_test.py\n",
      "result\n",
      "a\n",
      "%load ipython_script_test.py\n",
      "# %load ipython_script_test.py\n",
      "def f(x, y, z):\n",
      "    return (x+y)/z\n",
      "a = 5\n",
      "b = 6\n",
      "c = 7.5\n",
      "\n",
      "result = f(a, b, c)\n",
      "# %load ipython_script_test.py\n",
      "def f(x, y, z):\n",
      "    return (x+y)/z\n",
      "a = 5\n",
      "b = 6\n",
      "c = 7.5\n",
      "\n",
      "result = f(a, b, c)\n",
      "# %load ipython_script_test.py\n",
      "def f(x, y, z):\n",
      "    return (x+y)/z\n",
      "a = 100\n",
      "b = 6\n",
      "c = 7.5\n",
      "\n",
      "result = f(a, b, c)\n",
      "\n",
      "result\n",
      "%paste\n",
      "%paste\n",
      "%paste\n",
      "%cpaste\n",
      "%cpaste\n",
      "%cpaste\n",
      "%paste\n",
      "%paste\n",
      "%paste\n",
      "%paste\n",
      "print(\"Hello world!\")\n",
      "%paste\n",
      "print(\"Hello world!\")\n",
      "%paste\n",
      "print(\"Hello world!\")\n",
      "%paste\n",
      "print(\"Hello world!\")\n",
      "%paste\n",
      "%paste\n",
      "%paste\n",
      "%paste\n",
      "%paste\n",
      "%paste\n",
      "%paste\n",
      "%paste\n",
      " %paste\n",
      " %paste\n",
      " %paste\n",
      " %paste\n",
      "%magic\n",
      "%paste\n",
      "%%paste\n",
      "a = np.random.randn(100, 100)\n",
      "%timeit np.dot(a, a)\n",
      "%debug?\n",
      "%debug?\n",
      "%hist\n",
      "%debug?\n",
      "%hist\n",
      "%page a\n",
      "%debug?\n",
      "%hist\n",
      "%page a\n",
      "%who\n",
      "path = \"%pwd\"\n",
      "path\n",
      "path = %pwd\n",
      "path = %pwd\n",
      "path = %pwd\n",
      "path\n",
      "%matplotlib inline\n",
      "import matplotlib.pyplot as plt\n",
      "plt.plot(np.random.randn.(50).cumsum())\n",
      "%matplotlib inline\n",
      "import matplotlib.pyplot as plt\n",
      "plt.plot(np.random.randn.(50).cumsum())\n",
      "%matplotlib inline\n",
      "%matplotlib inline\n",
      "import matplotlib.pyplot as plt\n",
      "plt.plot(np.random.randn.(50).cumsum())\n",
      "import matplotlib.pyplot as plt\n",
      "plt.plot(np.random.randn(50).cumsum())\n",
      "%debug?\n",
      "%hist\n",
      "%page a\n",
      "%who\n",
      "a\t add_numbers\t b\t c\t f\t np\t path\t plt\t result\t \n",
      "\n"
     ]
    }
   ],
   "source": [
    "%debug?\n",
    "%hist\n",
    "%page a\n",
    "%who"
   ]
  },
  {
   "cell_type": "code",
   "execution_count": 64,
   "id": "09b14cde",
   "metadata": {},
   "outputs": [
    {
     "data": {
      "text/plain": [
       "'E:\\\\python数据分析学习'"
      ]
     },
     "execution_count": 64,
     "metadata": {},
     "output_type": "execute_result"
    }
   ],
   "source": [
    "path"
   ]
  },
  {
   "cell_type": "code",
   "execution_count": 68,
   "id": "0db2c38b",
   "metadata": {},
   "outputs": [],
   "source": [
    "%matplotlib inline"
   ]
  },
  {
   "cell_type": "code",
   "execution_count": 70,
   "id": "d0bbdea8",
   "metadata": {},
   "outputs": [
    {
     "data": {
      "text/plain": [
       "[<matplotlib.lines.Line2D at 0x1da77549610>]"
      ]
     },
     "execution_count": 70,
     "metadata": {},
     "output_type": "execute_result"
    },
    {
     "data": {
      "image/png": "[encoded data removed]",
      "text/plain": [
       "<Figure size 432x288 with 1 Axes>"
      ]
     },
     "metadata": {
      "needs_background": "light"
     },
     "output_type": "display_data"
    }
   ],
   "source": [
    "import matplotlib.pyplot as plt\n",
    "plt.plot(np.random.randn(50).cumsum())"
   ]
  },
  {
   "cell_type": "code",
   "execution_count": 72,
   "id": "fc27bdb6",
   "metadata": {},
   "outputs": [
    {
     "ename": "NameError",
     "evalue": "name 'array' is not defined",
     "output_type": "error",
     "traceback": [
      "\u001b[1;31m---------------------------------------------------------------------------\u001b[0m",
      "\u001b[1;31mNameError\u001b[0m                                 Traceback (most recent call last)",
      "\u001b[1;32mE:\\python数据分析学习\\ipython_script_test.py\u001b[0m in \u001b[0;36m<module>\u001b[1;34m\u001b[0m\n\u001b[1;32m----> 1\u001b[1;33m \u001b[1;32mfor\u001b[0m \u001b[0mx\u001b[0m \u001b[1;32min\u001b[0m \u001b[0marray\u001b[0m\u001b[1;33m:\u001b[0m\u001b[1;33m\u001b[0m\u001b[1;33m\u001b[0m\u001b[0m\n\u001b[0m\u001b[0;32m      2\u001b[0m     \u001b[1;32mif\u001b[0m \u001b[0mx\u001b[0m \u001b[1;33m<\u001b[0m \u001b[0mpivot\u001b[0m\u001b[1;33m:\u001b[0m\u001b[1;33m\u001b[0m\u001b[1;33m\u001b[0m\u001b[0m\n\u001b[0;32m      3\u001b[0m         \u001b[0mless\u001b[0m\u001b[1;33m.\u001b[0m\u001b[0mappend\u001b[0m\u001b[1;33m(\u001b[0m\u001b[0mx\u001b[0m\u001b[1;33m)\u001b[0m\u001b[1;33m\u001b[0m\u001b[1;33m\u001b[0m\u001b[0m\n\u001b[0;32m      4\u001b[0m     \u001b[1;32melse\u001b[0m\u001b[1;33m:\u001b[0m\u001b[1;33m\u001b[0m\u001b[1;33m\u001b[0m\u001b[0m\n\u001b[0;32m      5\u001b[0m         \u001b[0mgreater\u001b[0m\u001b[1;33m.\u001b[0m\u001b[0mappend\u001b[0m\u001b[1;33m(\u001b[0m\u001b[0mx\u001b[0m\u001b[1;33m)\u001b[0m\u001b[1;33m\u001b[0m\u001b[1;33m\u001b[0m\u001b[0m\n",
      "\u001b[1;31mNameError\u001b[0m: name 'array' is not defined"
     ]
    }
   ],
   "source": [
    "for x in array:\n",
    "    if x < pivot:\n",
    "        less.append(x)\n",
    "    else:\n",
    "        greater.append(x)"
   ]
  },
  {
   "cell_type": "code",
   "execution_count": 76,
   "id": "09479fb4",
   "metadata": {},
   "outputs": [
    {
     "name": "stdout",
     "output_type": "stream",
     "text": [
      "a is <class 'int'>, b is <class 'float'>\n"
     ]
    },
    {
     "data": {
      "text/plain": [
       "2.25"
      ]
     },
     "execution_count": 76,
     "metadata": {},
     "output_type": "execute_result"
    }
   ],
   "source": [
    "a = 4.5 ; b = 2\n",
    "print('a is {1}, b is {0}'.format(type(a), type(b)))\n",
    "a / b"
   ]
  },
  {
   "cell_type": "code",
   "execution_count": 78,
   "id": "7613fb67",
   "metadata": {},
   "outputs": [
    {
     "data": {
      "text/plain": [
       "False"
      ]
     },
     "execution_count": 78,
     "metadata": {},
     "output_type": "execute_result"
    }
   ],
   "source": [
    "isinstance(a, float)\n",
    "isinstance(b, float)"
   ]
  },
  {
   "cell_type": "code",
   "execution_count": 83,
   "id": "f4830d6c",
   "metadata": {},
   "outputs": [
    {
     "data": {
      "text/plain": [
       "'not found'"
      ]
     },
     "execution_count": 83,
     "metadata": {},
     "output_type": "execute_result"
    }
   ],
   "source": [
    "getattr(a+b, 'split', 'not found')"
   ]
  }
 ],
 "metadata": {
  "kernelspec": {
   "display_name": "Python 3 (ipykernel)",
   "language": "python",
   "name": "python3"
  },
  "language_info": {
   "codemirror_mode": {
    "name": "ipython",
    "version": 3
   },
   "file_extension": ".py",
   "mimetype": "text/x-python",
   "name": "python",
   "nbconvert_exporter": "python",
   "pygments_lexer": "ipython3",
   "version": "3.9.6"
  }
 },
 "nbformat": 4,
 "nbformat_minor": 5
}
