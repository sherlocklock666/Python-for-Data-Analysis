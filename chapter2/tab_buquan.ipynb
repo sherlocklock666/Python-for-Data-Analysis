{
 "cells": [
  {
   "cell_type": "code",
   "execution_count": 2,
   "id": "5d62b635",
   "metadata": {},
   "outputs": [
    {
     "data": {
      "text/plain": [
       "42"
      ]
     },
     "execution_count": 2,
     "metadata": {},
     "output_type": "execute_result"
    }
   ],
   "source": [
    "an_apple = 27\n",
    "an_example = 42\n",
    "an_example"
   ]
  },
  {
   "cell_type": "code",
   "execution_count": 9,
   "id": "9d2a3338",
   "metadata": {},
   "outputs": [
    {
     "ename": "SyntaxError",
     "evalue": "invalid syntax (Temp/ipykernel_1712/2758874802.py, line 4)",
     "output_type": "error",
     "traceback": [
      "\u001b[1;36m  File \u001b[1;32m\"C:\\Users\\Administrator\\AppData\\Local\\Temp/ipykernel_1712/2758874802.py\"\u001b[1;36m, line \u001b[1;32m4\u001b[0m\n\u001b[1;33m    help\"extend\"\u001b[0m\n\u001b[1;37m        ^\u001b[0m\n\u001b[1;31mSyntaxError\u001b[0m\u001b[1;31m:\u001b[0m invalid syntax\n"
     ]
    }
   ],
   "source": [
    "b = [1, 2, 3]\n",
    "b.extend\n",
    "help(extend)\n",
    "help\"extend\"\n",
    "extend"
   ]
  },
  {
   "cell_type": "code",
   "execution_count": 10,
   "id": "2a7c2e4a",
   "metadata": {},
   "outputs": [
    {
     "data": {
      "text/plain": [
       "datetime.time"
      ]
     },
     "execution_count": 10,
     "metadata": {},
     "output_type": "execute_result"
    }
   ],
   "source": [
    "import datetime\n",
    "datetime.time"
   ]
  },
  {
   "cell_type": "code",
   "execution_count": 13,
   "id": "50ecd465",
   "metadata": {},
   "outputs": [],
   "source": [
    "path = \"e:/python数据分析学习/cha\""
   ]
  }
 ],
 "metadata": {
  "kernelspec": {
   "display_name": "Python 3 (ipykernel)",
   "language": "python",
   "name": "python3"
  },
  "language_info": {
   "codemirror_mode": {
    "name": "ipython",
    "version": 3
   },
   "file_extension": ".py",
   "mimetype": "text/x-python",
   "name": "python",
   "nbconvert_exporter": "python",
   "pygments_lexer": "ipython3",
   "version": "3.9.6"
  }
 },
 "nbformat": 4,
 "nbformat_minor": 5
}
