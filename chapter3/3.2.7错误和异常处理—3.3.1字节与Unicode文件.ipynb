{
 "cells": [
  {
   "cell_type": "code",
   "execution_count": null,
   "id": "c46d48e3",
   "metadata": {},
   "outputs": [],
   "source": [
    "%xmode Verbose\n",
    "def attempt_float(x):\n",
    "    try:\n",
    "        return float(x)\n",
    "    except ValueError:\n",
    "        return x, type(x)\n",
    "\n",
    "attempt_float('something')"
   ]
  },
  {
   "cell_type": "code",
   "execution_count": 20,
   "id": "178b10da",
   "metadata": {},
   "outputs": [
    {
     "name": "stdout",
     "output_type": "stream",
     "text": [
      "Variable        Type        Data/Info\n",
      "-------------------------------------\n",
      "attempt_float   function    <function attempt_float at 0x0000024247313310>\n"
     ]
    }
   ],
   "source": [
    "%whos\n"
   ]
  },
  {
   "cell_type": "code",
   "execution_count": 6,
   "id": "f96eeddc",
   "metadata": {},
   "outputs": [],
   "source": [
    "path =r'E:\\python数据分析学习\\pydata-book\\examples\\segismundo.txt'\n",
    "f = open(path)"
   ]
  },
  {
   "cell_type": "code",
   "execution_count": 16,
   "id": "7ac95904",
   "metadata": {},
   "outputs": [
    {
     "name": "stdout",
     "output_type": "stream",
     "text": [
      "Exception reporting mode: Verbose\n"
     ]
    }
   ],
   "source": [
    "%xmode Verbose"
   ]
  },
  {
   "cell_type": "code",
   "execution_count": 22,
   "id": "58590a10",
   "metadata": {},
   "outputs": [
    {
     "name": "stdout",
     "output_type": "stream",
     "text": [
      "b'Sue\\xc3\\xb1a el '\n"
     ]
    },
    {
     "ename": "ValueError",
     "evalue": "I/O operation on closed file",
     "output_type": "error",
     "traceback": [
      "\u001b[1;31m---------------------------------------------------------------------------\u001b[0m",
      "\u001b[1;31mValueError\u001b[0m                                Traceback (most recent call last)",
      "\u001b[1;32m~\\AppData\\Local\\Temp/ipykernel_15336/112357169.py\u001b[0m in \u001b[0;36m<module>\u001b[1;34m\u001b[0m\n\u001b[0;32m      2\u001b[0m     \u001b[0mprint\u001b[0m\u001b[1;33m(\u001b[0m\u001b[0mf\u001b[0m\u001b[1;33m.\u001b[0m\u001b[0mread\u001b[0m\u001b[1;33m(\u001b[0m\u001b[1;36m10\u001b[0m\u001b[1;33m)\u001b[0m\u001b[1;33m)\u001b[0m\u001b[1;33m\u001b[0m\u001b[1;33m\u001b[0m\u001b[0m\n\u001b[0;32m      3\u001b[0m \u001b[1;33m\u001b[0m\u001b[0m\n\u001b[1;32m----> 4\u001b[1;33m \u001b[0mf\u001b[0m\u001b[1;33m.\u001b[0m\u001b[0mtell\u001b[0m\u001b[1;33m(\u001b[0m\u001b[1;33m)\u001b[0m\u001b[1;33m\u001b[0m\u001b[1;33m\u001b[0m\u001b[0m\n\u001b[0m        \u001b[1;36mglobal\u001b[0m \u001b[0;36mf.tell\u001b[0m \u001b[1;34m= <built-in method tell of _io.BufferedReader object at 0x000002C21D80E250>\u001b[0m\n",
      "\u001b[1;31mValueError\u001b[0m: I/O operation on closed file"
     ]
    }
   ],
   "source": [
    "with open(path, \"rb\") as f:\n",
    "    print(f.read(10))"
   ]
  },
  {
   "cell_type": "code",
   "execution_count": 28,
   "id": "28a4fc0d",
   "metadata": {},
   "outputs": [
    {
     "data": {
      "text/plain": [
       "'Sue帽a'"
      ]
     },
     "execution_count": 28,
     "metadata": {},
     "output_type": "execute_result"
    }
   ],
   "source": [
    "path = \"E:\\python数据分析学习\\pydata-book\\examples\\segismundo.txt\"\n",
    "f = open(path ,\"r\")\n",
    "f.read(5)"
   ]
  },
  {
   "cell_type": "code",
   "execution_count": 29,
   "id": "56edb714",
   "metadata": {},
   "outputs": [
    {
     "data": {
      "text/plain": [
       "6"
      ]
     },
     "execution_count": 29,
     "metadata": {},
     "output_type": "execute_result"
    }
   ],
   "source": [
    "f.tell()"
   ]
  },
  {
   "cell_type": "code",
   "execution_count": 32,
   "id": "cb385617",
   "metadata": {},
   "outputs": [
    {
     "data": {
      "text/plain": [
       "b'Sue\\xc3\\xb1'"
      ]
     },
     "execution_count": 32,
     "metadata": {},
     "output_type": "execute_result"
    }
   ],
   "source": [
    "f.close()\n",
    "f2 = open(path, 'rb')\n",
    "f2.read(5)"
   ]
  },
  {
   "cell_type": "code",
   "execution_count": 34,
   "id": "e4d1ae6a",
   "metadata": {},
   "outputs": [],
   "source": [
    "f2.tell()\n",
    "f2.close()"
   ]
  },
  {
   "cell_type": "code",
   "execution_count": 35,
   "id": "0a76a4e3",
   "metadata": {},
   "outputs": [
    {
     "data": {
      "text/plain": [
       "'utf-8'"
      ]
     },
     "execution_count": 35,
     "metadata": {},
     "output_type": "execute_result"
    }
   ],
   "source": [
    "import sys\n",
    "sys.getdefaultencoding()"
   ]
  },
  {
   "cell_type": "code",
   "execution_count": 46,
   "id": "bad6c7e0",
   "metadata": {},
   "outputs": [
    {
     "data": {
      "text/plain": [
       "'rico en su'"
      ]
     },
     "execution_count": 46,
     "metadata": {},
     "output_type": "execute_result"
    }
   ],
   "source": [
    "f3 = open(path, \"r\")\n",
    "f3.seek(10)\n",
    "f3.read(10)\n",
    "# f3.read(1)\n",
    "# f3.close()"
   ]
  },
  {
   "cell_type": "code",
   "execution_count": 40,
   "id": "79e30239",
   "metadata": {},
   "outputs": [
    {
     "data": {
      "text/plain": [
       "['Sue帽a el rico en su riqueza,\\n',\n",
       " 'que m谩s cuidados le ofrece;\\n',\n",
       " 'sue帽a el pobre que padece\\n',\n",
       " 'su miseria y su pobreza;\\n',\n",
       " 'sue帽a el que a medrar empieza,\\n',\n",
       " 'sue帽a el que afana y pretende,\\n',\n",
       " 'sue帽a el que agravia y ofende,\\n',\n",
       " 'y en el mundo, en conclusi贸n,\\n',\n",
       " 'todos sue帽an lo que son,\\n',\n",
       " 'aunque ninguno lo entiende.\\n']"
      ]
     },
     "execution_count": 40,
     "metadata": {},
     "output_type": "execute_result"
    }
   ],
   "source": [
    "with open(\"tmp.txt\", \"w\") as handle:\n",
    "    handle.writelines(x for x in open(path) if len(x)>1)\n",
    "with open('tmp.txt', 'r') as f:\n",
    "    lines = f.readlines()\n",
    "\n",
    "lines"
   ]
  },
  {
   "cell_type": "code",
   "execution_count": 69,
   "id": "819973f3",
   "metadata": {},
   "outputs": [
    {
     "data": {
      "text/plain": [
       "'[{\"a\": 1, \"b\": 2, \"c'"
      ]
     },
     "execution_count": 69,
     "metadata": {},
     "output_type": "execute_result"
    }
   ],
   "source": [
    "with open(path, 'r') as f:\n",
    "    chars = f.read(20)\n",
    "chars"
   ]
  },
  {
   "cell_type": "code",
   "execution_count": 19,
   "id": "5e2303ab",
   "metadata": {},
   "outputs": [
    {
     "data": {
      "text/plain": [
       "{'encoding': 'utf-8', 'confidence': 0.99, 'language': ''}"
      ]
     },
     "execution_count": 19,
     "metadata": {},
     "output_type": "execute_result"
    }
   ],
   "source": [
    "import re\n",
    "import chardet\n",
    "\n",
    "path =r'E:\\\\python数据分析学习\\\\tmp.txt'\n",
    "\n",
    "with open(path, \"rb\") as f:\n",
    "    data = f.read() \n",
    "\n",
    "encode_type = chardet.detect(data)\n",
    "encode_type\n",
    "# data = data.decode(encode_type[\"encoding\"])\n",
    "# data = re.sub('\\r\\n', ' ', data)\n",
    "# data"
   ]
  },
  {
   "cell_type": "code",
   "execution_count": 31,
   "id": "c9169d71",
   "metadata": {},
   "outputs": [
    {
     "data": {
      "text/plain": [
       "'Sueña el rico en su riqueza, que más cuidados le ofrece; sueña el pobre que padece su miseria y su pobreza; sueña el que a medrar empieza, sueña el que afana y pretende, sueña el que agravia y ofende, y en el mundo, en conclusión, todos sueñan lo que son, aunque ninguno lo entiende. '"
      ]
     },
     "execution_count": 31,
     "metadata": {},
     "output_type": "execute_result"
    }
   ],
   "source": [
    "data = bytes.decode(data)\n",
    "data = re.sub('\\r\\n', ' ', data)\n",
    "data"
   ]
  }
 ],
 "metadata": {
  "kernelspec": {
   "display_name": "Python 3 (ipykernel)",
   "language": "python",
   "name": "python3"
  },
  "language_info": {
   "codemirror_mode": {
    "name": "ipython",
    "version": 3
   },
   "file_extension": ".py",
   "mimetype": "text/x-python",
   "name": "python",
   "nbconvert_exporter": "python",
   "pygments_lexer": "ipython3",
   "version": "3.9.6"
  },
  "toc": {
   "base_numbering": 1,
   "nav_menu": {},
   "number_sections": true,
   "sideBar": true,
   "skip_h1_title": false,
   "title_cell": "Table of Contents",
   "title_sidebar": "Contents",
   "toc_cell": false,
   "toc_position": {},
   "toc_section_display": true,
   "toc_window_display": false
  },
  "varInspector": {
   "cols": {
    "lenName": 16,
    "lenType": 16,
    "lenVar": 40
   },
   "kernels_config": {
    "python": {
     "delete_cmd_postfix": "",
     "delete_cmd_prefix": "del ",
     "library": "var_list.py",
     "varRefreshCmd": "print(var_dic_list())"
    },
    "r": {
     "delete_cmd_postfix": ") ",
     "delete_cmd_prefix": "rm(",
     "library": "var_list.r",
     "varRefreshCmd": "cat(var_dic_list()) "
    }
   },
   "types_to_exclude": [
    "module",
    "function",
    "builtin_function_or_method",
    "instance",
    "_Feature"
   ],
   "window_display": false
  },
  "vp": {
   "base_numbering": 1,
   "nav_menu": {},
   "number_sections": true,
   "sideBar": true,
   "title_cell": "VisualPython",
   "title_sidebar": "VisualPython",
   "vpPosition": {
    "height": "calc(100% - 180px)",
    "right": "10px",
    "top": "110px",
    "width": "50%"
   },
   "vp_cell": false,
   "vp_section_display": true,
   "vp_window_display": false
  }
 },
 "nbformat": 4,
 "nbformat_minor": 5
}
