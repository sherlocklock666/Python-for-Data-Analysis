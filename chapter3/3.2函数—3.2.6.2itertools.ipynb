{
 "cells": [
  {
   "cell_type": "code",
   "execution_count": 13,
   "id": "079e37c6",
   "metadata": {},
   "outputs": [
    {
     "data": {
      "text/plain": [
       "[0, 1, 2, 3, 4, 5, 6, 7, 8, 9]"
      ]
     },
     "execution_count": 13,
     "metadata": {},
     "output_type": "execute_result"
    }
   ],
   "source": [
    "a = []\n",
    "def func():\n",
    "    for i in range(10):\n",
    "        a.append(i)\n",
    "    return a\n",
    "func_1 = func()\n",
    "func_1"
   ]
  },
  {
   "cell_type": "code",
   "execution_count": 14,
   "id": "9b83cf75",
   "metadata": {},
   "outputs": [
    {
     "name": "stdout",
     "output_type": "stream",
     "text": [
      "[]\n"
     ]
    }
   ],
   "source": [
    "a = None\n",
    "def bind_a_variable():\n",
    "    global a\n",
    "    a = []\n",
    "bind_a_variable()\n",
    "print(a)"
   ]
  },
  {
   "cell_type": "code",
   "execution_count": 16,
   "id": "deccda86",
   "metadata": {},
   "outputs": [
    {
     "name": "stdout",
     "output_type": "stream",
     "text": [
      "<re.Match object; span=(0, 3), match='www'>\n"
     ]
    }
   ],
   "source": [
    "import re\n",
    "print(re.match('www', 'www.runoob.com'))"
   ]
  },
  {
   "cell_type": "code",
   "execution_count": 18,
   "id": "b435b428",
   "metadata": {},
   "outputs": [
    {
     "data": {
      "text/plain": [
       "['Alabama',\n",
       " 'Georgia',\n",
       " 'Georgia',\n",
       " 'Georgia',\n",
       " 'Florida',\n",
       " 'South   Carolina',\n",
       " 'West Virginia']"
      ]
     },
     "execution_count": 18,
     "metadata": {},
     "output_type": "execute_result"
    }
   ],
   "source": [
    "states = ['Alabama', 'Georgia!', 'Georgia', 'georgia','FlOrIda', \n",
    "         'south   carolina##', 'West virginia?']\n",
    "\n",
    "\n",
    "\n",
    "clean_ops = [str.strip, remove_punctuation, str.title]\n",
    "\n",
    "def clean_strings(strings, ops):\n",
    "    result = []\n",
    "    for value in strings:\n",
    "        for function in ops:\n",
    "            value = function(value)\n",
    "        result.append(value)\n",
    "    return result\n",
    "\n",
    "clean_strings(states, clean_ops)"
   ]
  },
  {
   "cell_type": "code",
   "execution_count": 19,
   "id": "f9e0fe4b",
   "metadata": {},
   "outputs": [
    {
     "name": "stdout",
     "output_type": "stream",
     "text": [
      "Alabama\n",
      "Georgia\n",
      "Georgia\n",
      "georgia\n",
      "FlOrIda\n",
      "south   carolina\n",
      "West virginia\n"
     ]
    }
   ],
   "source": [
    "def remove_punctuation(value):\n",
    "    return re.sub('[!?#]', '', value)\n",
    "\n",
    "for x in map(remove_punctuation, states):\n",
    "    print(x)"
   ]
  },
  {
   "cell_type": "code",
   "execution_count": 22,
   "id": "39b57b23",
   "metadata": {},
   "outputs": [
    {
     "data": {
      "text/plain": [
       "function"
      ]
     },
     "execution_count": 22,
     "metadata": {},
     "output_type": "execute_result"
    }
   ],
   "source": [
    "equiv_anon = lambda x: x*2\n",
    "type(equiv_anon)"
   ]
  },
  {
   "cell_type": "code",
   "execution_count": 37,
   "id": "da342cb7",
   "metadata": {},
   "outputs": [
    {
     "data": {
      "text/plain": [
       "['aaaa', 'foo', 'ababa', 'bar', 'card']"
      ]
     },
     "execution_count": 37,
     "metadata": {},
     "output_type": "execute_result"
    }
   ],
   "source": [
    "strings = ['foo', 'card', 'bar', 'aaaa', 'ababa']\n",
    "\n",
    "def paixu(test1):\n",
    "    return len(set(tuple(test1)))\n",
    "\n",
    "strings.sort(key = paixu)\n",
    "strings"
   ]
  },
  {
   "cell_type": "code",
   "execution_count": 34,
   "id": "0ff04302",
   "metadata": {},
   "outputs": [
    {
     "data": {
      "text/plain": [
       "11"
      ]
     },
     "execution_count": 34,
     "metadata": {},
     "output_type": "execute_result"
    }
   ],
   "source": [
    "len(set(list(x)))"
   ]
  },
  {
   "cell_type": "code",
   "execution_count": 42,
   "id": "f3695931",
   "metadata": {},
   "outputs": [
    {
     "data": {
      "text/plain": [
       "45"
      ]
     },
     "execution_count": 42,
     "metadata": {},
     "output_type": "execute_result"
    }
   ],
   "source": [
    "from functools import partial\n",
    "\n",
    "def add1(a, b, c):\n",
    "    return a+b+c\n",
    "\n",
    "add2 = partial(add1, c=10)\n",
    "\n",
    "result = add2(a=10, b=20, c=15)\n",
    "result"
   ]
  },
  {
   "cell_type": "code",
   "execution_count": 5,
   "id": "fda83a97",
   "metadata": {},
   "outputs": [
    {
     "name": "stdout",
     "output_type": "stream",
     "text": [
      "Generatting squares from 1 to 100\n",
      "1\t4\t9\t16\t25\t36\t49\t64\t81\t100\t"
     ]
    }
   ],
   "source": [
    "def squares(n=10):\n",
    "    print(\"Generatting squares from 1 to {0}\".format(n**2))\n",
    "    for i in range(1, n+1):\n",
    "        yield i**2\n",
    "\n",
    "gen = squares()\n",
    "type(gen)\n",
    "\n",
    "for x in gen:\n",
    "    print(x, end='\\t')"
   ]
  },
  {
   "cell_type": "code",
   "execution_count": 14,
   "id": "fccfd085",
   "metadata": {},
   "outputs": [
    {
     "name": "stdout",
     "output_type": "stream",
     "text": [
      "A {'Alan', 'Adam'}\n",
      "W {'Wes', 'Will'}\n",
      "A {'Albert'}\n",
      "S {'Steven'}\n"
     ]
    }
   ],
   "source": [
    "import itertools\n",
    "first_letter = lambda x: x[0]\n",
    "\n",
    "names = ['Alan', 'Adam', 'Wes', 'Will', 'Albert', 'Steven']\n",
    "\n",
    "for letter, wu in itertools.groupby(names, first_letter):\n",
    "    print(letter, set(wu))"
   ]
  }
 ],
 "metadata": {
  "kernelspec": {
   "display_name": "Python 3 (ipykernel)",
   "language": "python",
   "name": "python3"
  },
  "language_info": {
   "codemirror_mode": {
    "name": "ipython",
    "version": 3
   },
   "file_extension": ".py",
   "mimetype": "text/x-python",
   "name": "python",
   "nbconvert_exporter": "python",
   "pygments_lexer": "ipython3",
   "version": "3.9.6"
  }
 },
 "nbformat": 4,
 "nbformat_minor": 5
}
