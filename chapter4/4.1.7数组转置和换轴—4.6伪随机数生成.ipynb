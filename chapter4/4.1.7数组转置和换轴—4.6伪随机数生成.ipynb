{
 "cells": [
  {
   "cell_type": "code",
   "execution_count": 1,
   "id": "7c316d75",
   "metadata": {},
   "outputs": [],
   "source": [
    "from IPython.core.interactiveshell import InteractiveShell\n",
    "InteractiveShell.ast_node_interactivity = \"all\""
   ]
  },
  {
   "cell_type": "code",
   "execution_count": 2,
   "id": "10042996",
   "metadata": {},
   "outputs": [
    {
     "data": {
      "text/plain": [
       "array([0, 1, 2, 3])"
      ]
     },
     "execution_count": 2,
     "metadata": {},
     "output_type": "execute_result"
    },
    {
     "data": {
      "text/plain": [
       "(4,)"
      ]
     },
     "execution_count": 2,
     "metadata": {},
     "output_type": "execute_result"
    },
    {
     "data": {
      "text/plain": [
       "array([[0, 1, 2, 3]])"
      ]
     },
     "execution_count": 2,
     "metadata": {},
     "output_type": "execute_result"
    },
    {
     "data": {
      "text/plain": [
       "(1, 4)"
      ]
     },
     "execution_count": 2,
     "metadata": {},
     "output_type": "execute_result"
    },
    {
     "data": {
      "text/plain": [
       "array([[0, 1, 2, 3]])"
      ]
     },
     "execution_count": 2,
     "metadata": {},
     "output_type": "execute_result"
    },
    {
     "data": {
      "text/plain": [
       "(1, 4)"
      ]
     },
     "execution_count": 2,
     "metadata": {},
     "output_type": "execute_result"
    }
   ],
   "source": [
    "\n",
    "import numpy as np\n",
    "arr = np.arange(4)\n",
    "arr\n",
    "arr.shape\n",
    "arr1 = arr.reshape(1, arr.shape[0])\n",
    "arr1\n",
    "arr1.shape\n",
    "np.array([(0, 1, 2, 3)])\n",
    "np.array([(0, 1, 2, 3)]).shape"
   ]
  },
  {
   "cell_type": "code",
   "execution_count": 3,
   "id": "672ca14a",
   "metadata": {},
   "outputs": [
    {
     "data": {
      "text/plain": [
       "array([0, 1, 2, 3, 4, 5, 6, 7, 8, 9])"
      ]
     },
     "execution_count": 3,
     "metadata": {},
     "output_type": "execute_result"
    },
    {
     "data": {
      "text/plain": [
       "array([0.        , 1.        , 1.41421356, 1.73205081, 2.        ,\n",
       "       2.23606798, 2.44948974, 2.64575131, 2.82842712, 3.        ])"
      ]
     },
     "execution_count": 3,
     "metadata": {},
     "output_type": "execute_result"
    },
    {
     "data": {
      "text/plain": [
       "array([1.00000000e+00, 2.71828183e+00, 7.38905610e+00, 2.00855369e+01,\n",
       "       5.45981500e+01, 1.48413159e+02, 4.03428793e+02, 1.09663316e+03,\n",
       "       2.98095799e+03, 8.10308393e+03])"
      ]
     },
     "execution_count": 3,
     "metadata": {},
     "output_type": "execute_result"
    }
   ],
   "source": [
    "arr = np.arange(10)\n",
    "arr\n",
    "np.sqrt(arr)\n",
    "np.exp(arr)"
   ]
  },
  {
   "cell_type": "code",
   "execution_count": 4,
   "id": "f3da9acf",
   "metadata": {},
   "outputs": [
    {
     "data": {
      "text/plain": [
       "array([ 0.13840187,  0.18171911,  0.31956094, -0.15723029,  0.97189913,\n",
       "        0.06206504,  1.15451274, -0.19916246])"
      ]
     },
     "execution_count": 4,
     "metadata": {},
     "output_type": "execute_result"
    }
   ],
   "source": [
    "x = np.random.randn(8)\n",
    "y = np.random.randn(8)\n",
    "np.maximum(x, y)"
   ]
  },
  {
   "cell_type": "code",
   "execution_count": 5,
   "id": "b090823a",
   "metadata": {},
   "outputs": [
    {
     "data": {
      "text/plain": [
       "array([  1.63655357,  -5.81732034,   4.38516799, -10.36510679,\n",
       "        -6.71115155,  -5.83644781,   1.8744177 ])"
      ]
     },
     "execution_count": 5,
     "metadata": {},
     "output_type": "execute_result"
    },
    {
     "data": {
      "text/plain": [
       "array([ 0.63655357, -0.81732034,  0.38516799, -0.36510679, -0.71115155,\n",
       "       -0.83644781,  0.8744177 ])"
      ]
     },
     "execution_count": 5,
     "metadata": {},
     "output_type": "execute_result"
    },
    {
     "data": {
      "text/plain": [
       "array([  1.,  -5.,   4., -10.,  -6.,  -5.,   1.])"
      ]
     },
     "execution_count": 5,
     "metadata": {},
     "output_type": "execute_result"
    }
   ],
   "source": [
    "arr = np.random.randn(7)*5\n",
    "arr\n",
    "remainder, whole_part = np.modf(arr)\n",
    "remainder\n",
    "whole_part"
   ]
  },
  {
   "cell_type": "code",
   "execution_count": 6,
   "id": "db6069f5",
   "metadata": {},
   "outputs": [
    {
     "data": {
      "text/plain": [
       "array([  1.63655357,  -5.81732034,   4.38516799, -10.36510679,\n",
       "        -6.71115155,  -5.83644781,   1.8744177 ])"
      ]
     },
     "execution_count": 6,
     "metadata": {},
     "output_type": "execute_result"
    },
    {
     "data": {
      "text/plain": [
       "array([  2.6783076 ,  33.84121591,  19.22969831, 107.43543872,\n",
       "        45.03955513,  34.06412307,   3.5134417 ])"
      ]
     },
     "execution_count": 6,
     "metadata": {},
     "output_type": "execute_result"
    },
    {
     "data": {
      "text/plain": [
       "array([  2.6783076 ,  33.84121591,  19.22969831, 107.43543872,\n",
       "        45.03955513,  34.06412307,   3.5134417 ])"
      ]
     },
     "execution_count": 6,
     "metadata": {},
     "output_type": "execute_result"
    },
    {
     "data": {
      "text/plain": [
       "array([  2.6783076 ,  33.84121591,  19.22969831, 107.43543872,\n",
       "        45.03955513,  34.06412307,   3.5134417 ])"
      ]
     },
     "execution_count": 6,
     "metadata": {},
     "output_type": "execute_result"
    },
    {
     "name": "stdout",
     "output_type": "stream",
     "text": [
      "[ True  True  True  True  True  True  True]\n",
      "False\n"
     ]
    }
   ],
   "source": [
    "arr\n",
    "arr1 = np.zeros(arr.shape)\n",
    "np.square(arr, out=arr1)\n",
    "arr1\n",
    "arr2 = np.square(arr)\n",
    "arr2\n",
    "print(arr1 == arr2)\n",
    "print(id(arr1) == id(arr2))"
   ]
  },
  {
   "cell_type": "code",
   "execution_count": 9,
   "id": "7b2b5ab3",
   "metadata": {},
   "outputs": [
    {
     "data": {
      "text/plain": [
       "array([[-5.  , -4.99, -4.98, ...,  4.97,  4.98,  4.99],\n",
       "       [-5.  , -4.99, -4.98, ...,  4.97,  4.98,  4.99],\n",
       "       [-5.  , -4.99, -4.98, ...,  4.97,  4.98,  4.99],\n",
       "       ...,\n",
       "       [-5.  , -4.99, -4.98, ...,  4.97,  4.98,  4.99],\n",
       "       [-5.  , -4.99, -4.98, ...,  4.97,  4.98,  4.99],\n",
       "       [-5.  , -4.99, -4.98, ...,  4.97,  4.98,  4.99]])"
      ]
     },
     "execution_count": 9,
     "metadata": {},
     "output_type": "execute_result"
    },
    {
     "data": {
      "text/plain": [
       "array([[-5.  , -5.  , -5.  , ..., -5.  , -5.  , -5.  ],\n",
       "       [-4.99, -4.99, -4.99, ..., -4.99, -4.99, -4.99],\n",
       "       [-4.98, -4.98, -4.98, ..., -4.98, -4.98, -4.98],\n",
       "       ...,\n",
       "       [ 4.97,  4.97,  4.97, ...,  4.97,  4.97,  4.97],\n",
       "       [ 4.98,  4.98,  4.98, ...,  4.98,  4.98,  4.98],\n",
       "       [ 4.99,  4.99,  4.99, ...,  4.99,  4.99,  4.99]])"
      ]
     },
     "execution_count": 9,
     "metadata": {},
     "output_type": "execute_result"
    }
   ],
   "source": [
    "points = np.arange(-5, 5, 0.01)\n",
    "xs, ys = np.meshgrid(points, points)\n",
    "xs\n",
    "ys"
   ]
  },
  {
   "cell_type": "code",
   "execution_count": 10,
   "id": "6ee7cae4",
   "metadata": {},
   "outputs": [
    {
     "data": {
      "text/plain": [
       "array([[7.07106781, 7.06400028, 7.05693985, ..., 7.04988652, 7.05693985,\n",
       "        7.06400028],\n",
       "       [7.06400028, 7.05692568, 7.04985815, ..., 7.04279774, 7.04985815,\n",
       "        7.05692568],\n",
       "       [7.05693985, 7.04985815, 7.04278354, ..., 7.03571603, 7.04278354,\n",
       "        7.04985815],\n",
       "       ...,\n",
       "       [7.04988652, 7.04279774, 7.03571603, ..., 7.0286414 , 7.03571603,\n",
       "        7.04279774],\n",
       "       [7.05693985, 7.04985815, 7.04278354, ..., 7.03571603, 7.04278354,\n",
       "        7.04985815],\n",
       "       [7.06400028, 7.05692568, 7.04985815, ..., 7.04279774, 7.04985815,\n",
       "        7.05692568]])"
      ]
     },
     "execution_count": 10,
     "metadata": {},
     "output_type": "execute_result"
    }
   ],
   "source": [
    "z = np.sqrt(xs ** 2 + ys ** 2)\n",
    "z"
   ]
  },
  {
   "cell_type": "code",
   "execution_count": 11,
   "id": "362d5c1f",
   "metadata": {},
   "outputs": [
    {
     "data": {
      "text/plain": [
       "<matplotlib.image.AxesImage at 0x1f4eb2c9ac0>"
      ]
     },
     "execution_count": 11,
     "metadata": {},
     "output_type": "execute_result"
    },
    {
     "data": {
      "text/plain": [
       "<matplotlib.colorbar.Colorbar at 0x1f4eb2a3e50>"
      ]
     },
     "execution_count": 11,
     "metadata": {},
     "output_type": "execute_result"
    },
    {
     "data": {
      "image/png": "[encoded data removed]",
      "text/plain": [
       "<Figure size 432x288 with 2 Axes>"
      ]
     },
     "metadata": {
      "needs_background": "light"
     },
     "output_type": "display_data"
    }
   ],
   "source": [
    "import matplotlib.pyplot as plt\n",
    "plt.imshow(z, cmap=plt.cm.gray);\n",
    "plt.colorbar()"
   ]
  },
  {
   "cell_type": "code",
   "execution_count": 12,
   "id": "8f9560e5",
   "metadata": {},
   "outputs": [
    {
     "data": {
      "text/plain": [
       "array([[-3.84053204e-01,  1.14797197e+00, -1.61400609e+00,\n",
       "         1.32517584e+00],\n",
       "       [-6.70259152e-01, -5.92123720e-01, -1.15884219e-01,\n",
       "        -1.03911495e+00],\n",
       "       [ 2.58241636e+00,  4.50643270e-01,  3.31045931e-01,\n",
       "         7.80989608e-01],\n",
       "       [ 1.58969965e-03,  5.30080513e-01, -3.90266354e-01,\n",
       "        -3.11881978e-01]])"
      ]
     },
     "execution_count": 12,
     "metadata": {},
     "output_type": "execute_result"
    },
    {
     "data": {
      "text/plain": [
       "array([[False,  True, False,  True],\n",
       "       [False, False, False, False],\n",
       "       [ True,  True,  True,  True],\n",
       "       [ True,  True, False, False]])"
      ]
     },
     "execution_count": 12,
     "metadata": {},
     "output_type": "execute_result"
    },
    {
     "data": {
      "text/plain": [
       "array([[-2,  2, -2,  2],\n",
       "       [-2, -2, -2, -2],\n",
       "       [ 2,  2,  2,  2],\n",
       "       [ 2,  2, -2, -2]])"
      ]
     },
     "execution_count": 12,
     "metadata": {},
     "output_type": "execute_result"
    }
   ],
   "source": [
    "arr = np.random.randn(4, 4)\n",
    "arr\n",
    "arr>0\n",
    "np.where(arr>0, 2, -2)"
   ]
  },
  {
   "cell_type": "code",
   "execution_count": 27,
   "id": "8726e1ea",
   "metadata": {},
   "outputs": [
    {
     "data": {
      "text/plain": [
       "array([[0, 1, 2],\n",
       "       [3, 4, 5],\n",
       "       [6, 7, 8]])"
      ]
     },
     "execution_count": 27,
     "metadata": {},
     "output_type": "execute_result"
    },
    {
     "data": {
      "text/plain": [
       "array([[ 0.,  1.,  2.],\n",
       "       [ 3.,  5.,  7.],\n",
       "       [ 9., 12., 15.]])"
      ]
     },
     "execution_count": 27,
     "metadata": {},
     "output_type": "execute_result"
    },
    {
     "data": {
      "text/plain": [
       "array([[0, 1, 2],\n",
       "       [3, 4, 5],\n",
       "       [6, 7, 8]])"
      ]
     },
     "execution_count": 27,
     "metadata": {},
     "output_type": "execute_result"
    }
   ],
   "source": [
    "arr = np.arange(9).reshape(3,3)\n",
    "arr\n",
    "arr.cumsum(axis=0, dtype=np.int64, out=np.ones(arr.shape))\n",
    "arr"
   ]
  },
  {
   "cell_type": "code",
   "execution_count": 29,
   "id": "fa5ec13f",
   "metadata": {},
   "outputs": [
    {
     "data": {
      "text/plain": [
       "46"
      ]
     },
     "execution_count": 29,
     "metadata": {},
     "output_type": "execute_result"
    }
   ],
   "source": [
    "arr = np.random.randn(100)\n",
    "(arr>0).sum()"
   ]
  },
  {
   "cell_type": "code",
   "execution_count": 30,
   "id": "8d562a1d",
   "metadata": {},
   "outputs": [
    {
     "name": "stdout",
     "output_type": "stream",
     "text": [
      "[0.77132064 0.02075195 0.63364823 0.74880388]\n",
      "[0.77132064 0.02075195 0.63364823 0.74880388 0.49850701]\n",
      "[0.22479665 0.19806286 0.76053071 0.16911084]\n"
     ]
    },
    {
     "data": {
      "text/plain": [
       "'\\n[0.77132064 0.02075195 0.63364823 0.74880388]\\n[0.77132064 0.02075195 0.63364823 0.74880388]\\n[0.49850701 0.22479665 0.19806286 0.76053071]\\n'"
      ]
     },
     "execution_count": 30,
     "metadata": {},
     "output_type": "execute_result"
    }
   ],
   "source": [
    "np.random.seed(10)\n",
    "temp1=np.random.rand(4)\n",
    "print(temp1)\n",
    "np.random.seed(10)\n",
    "temp2=np.random.rand(5)\n",
    "print(temp2)\n",
    " \n",
    "#这句就不一样的，因为仅作用于最接近的那句随机数产生语句\n",
    "temp3=np.random.rand(4)\n",
    "print(temp3)\n",
    " \n",
    "'''\n",
    "[0.77132064 0.02075195 0.63364823 0.74880388]\n",
    "[0.77132064 0.02075195 0.63364823 0.74880388]\n",
    "[0.49850701 0.22479665 0.19806286 0.76053071]\n",
    "'''"
   ]
  },
  {
   "cell_type": "code",
   "execution_count": 32,
   "id": "508d70cc",
   "metadata": {},
   "outputs": [
    {
     "data": {
      "text/plain": [
       "array([ 0.47143516, -1.19097569,  1.43270697, -0.3126519 , -0.72058873])"
      ]
     },
     "execution_count": 32,
     "metadata": {},
     "output_type": "execute_result"
    },
    {
     "data": {
      "text/plain": [
       "array([ 0.47143516, -1.19097569,  1.43270697, -0.3126519 , -0.72058873,\n",
       "        0.88716294,  0.85958841, -0.6365235 ])"
      ]
     },
     "execution_count": 32,
     "metadata": {},
     "output_type": "execute_result"
    }
   ],
   "source": [
    "rng = np.random.RandomState(1234)\n",
    "rng.randn(5)\n",
    "rng = np.random.RandomState(1234)\n",
    "rng.randn(8)"
   ]
  },
  {
   "cell_type": "code",
   "execution_count": 34,
   "id": "c3728e41",
   "metadata": {},
   "outputs": [
    {
     "data": {
      "text/plain": [
       "array([ 0.47143516, -1.19097569,  1.43270697, -0.3126519 , -0.72058873,\n",
       "        0.88716294,  0.85958841, -0.6365235 ,  0.01569637, -2.24268495])"
      ]
     },
     "execution_count": 34,
     "metadata": {},
     "output_type": "execute_result"
    }
   ],
   "source": [
    "rng = np.random.RandomState(1234)\n",
    "rng.randn(10)"
   ]
  },
  {
   "cell_type": "code",
   "execution_count": 35,
   "id": "9954744e",
   "metadata": {},
   "outputs": [
    {
     "data": {
      "text/plain": [
       "('MT19937',\n",
       " array([1649622067, 2194114323, 4264962802, 3494850638, 3436016355,\n",
       "        1306827064, 3949387212, 3489808874, 4286832197, 3265308572,\n",
       "         141116987, 1297632648,  912047691, 1975531039, 3234357167,\n",
       "        1150743656, 3281707150, 1876459556,  628612596,  794205754,\n",
       "        4251463549, 1935716005,  949009155, 2995840443, 4117919840,\n",
       "         940021882,  240316975, 3191289405, 2914155301, 3015977553,\n",
       "        3396447672,  605863491, 1168931830, 3340076030, 1846911956,\n",
       "        3138137914, 1624856996,  272440712, 2352580807,  725879597,\n",
       "        2190873206, 1754223968, 2419265249, 2685051388, 4228415737,\n",
       "        1299645666,  935233826, 3382149214,  526141777, 1094201601,\n",
       "        2927772930, 1261497186, 3858178418, 3775270750,  143926775,\n",
       "        1917507826,   21511861, 2527197055, 1590843505,  930243495,\n",
       "        1242050458, 3344852947, 1432380310,  869146594, 1725547267,\n",
       "        1549005193, 3907923827,   72201198,  952190829, 2035050214,\n",
       "        2408126925, 1433397210,   77627676, 4150145781, 3833106323,\n",
       "        1447541886, 2858056673, 3975975357, 2215294344, 2708212051,\n",
       "        1428424875, 1274521076,  936642197,  759864914, 3176779482,\n",
       "        1979243043, 2355589181, 1718740871, 2958931824, 2350647690,\n",
       "         464638766,   75335869, 3306328911, 1190241751, 1051595890,\n",
       "        3511768363,  213220725,  598329116,  181742066,   89676040,\n",
       "        2435753782, 3268768474, 2455309484,  414663898, 3104505145,\n",
       "        2826027870, 3427169769, 3968165489, 1606334670, 3325581644,\n",
       "        4215669582,  240726133, 4253452946, 3490151450, 1287378751,\n",
       "         262250984,  832495336, 1474371932, 3275776048,  317725211,\n",
       "        3075970544,  608977416,  240409133, 1335051150, 3770987533,\n",
       "        4132306752,  707791389, 3504730192,  808340463,  414583262,\n",
       "        2094123383, 3098834489, 1439661684, 3059582902,    5292164,\n",
       "         352834724, 3384226462,  181928268, 2649388742, 2734370455,\n",
       "        1683377288, 3287083792, 1708508245, 3526704277, 1436134183,\n",
       "        2188056095,  538541821, 3425062447, 1556216575, 3463786599,\n",
       "        1017375519, 2539448367, 1728238179, 4284641411,  271423938,\n",
       "         601253136, 2490519924, 4178382886, 2520084235, 1968965876,\n",
       "        2576627158, 2509189788, 1568343340, 1987213395, 3816398190,\n",
       "        3004388284, 2198905493, 3952018111, 3069262098, 3977539994,\n",
       "        3482806507, 3517118679,  490104639, 3565656533, 1694116217,\n",
       "        1662254264, 3215124173, 1432754197,  508492941,  223614782,\n",
       "        3583573285, 4187277182,  956008379, 1555761619, 1857372494,\n",
       "        2041728503, 2614026568, 2044012580, 3404091049, 1228475633,\n",
       "        1033535402, 2446369478,  441095465, 3012319770, 2771023070,\n",
       "         174436990, 4286690173, 2780246078,  680795416, 1873466936,\n",
       "        1298232054, 2958501237, 4220281167, 3485247855, 4279313495,\n",
       "        2200087717, 1138973946, 1057470679, 3183088787, 1566321399,\n",
       "        2221189472, 2885941349, 1347396029,  191698079,   51852358,\n",
       "        1336791998,  149930775,  704870775, 2818169065, 2254562872,\n",
       "        3226423818, 2446100773, 3090232505,  676418634, 2465489691,\n",
       "        3963452308, 1479271533,  438112394, 2233396273, 3342621743,\n",
       "        3699695385, 2385052033, 2239408228, 1915131333, 3855627900,\n",
       "         732343329, 3019736343, 3764767103, 2243723118, 2596710451,\n",
       "        2556171062, 2422801987, 2279410509, 1520913567,  986933756,\n",
       "         398985031,  167069431,   86107656, 2331417993, 1582574580,\n",
       "        2943795224, 2687300360, 2544926755,    2474354, 1345911081,\n",
       "        3261922839, 2578463164, 1016459304, 3851309275, 3219957755,\n",
       "         898230752,  941534615,  651682839, 2344377966, 3304800831,\n",
       "        1805079228, 4285651820,  266326823, 1425261919,  187226922,\n",
       "        3898557055, 2906248235, 3437718879, 2934096664, 3280326347,\n",
       "        1141800383, 4168401326, 2868582841, 2779726928, 2615133658,\n",
       "        2317706162, 4150200040, 2160131231,  901632637, 2258161494,\n",
       "        1142047181, 3854671448, 4228894119, 2126672566,  101914062,\n",
       "        3112986228, 2263205232, 2266162821, 1396799784, 2574488982,\n",
       "        2306106267, 3228611576, 3369532568, 2747021756,  641872271,\n",
       "        2192679446, 1028579135,  642443322, 1142110909, 1009056640,\n",
       "        1203805837, 4032593120,  333232511, 2195927944, 3873768317,\n",
       "        2121709518, 3574971991,  499368616, 1280544035,  920376727,\n",
       "        3258608931, 4044144673, 3347852434, 1263009857, 4030954307,\n",
       "        2049383384, 3681720948,  622822957,   60226378, 4113322715,\n",
       "        2531829472,  949878591, 1716332877,  478463672, 2073986032,\n",
       "        4277228778, 3853263285,   14064739, 3836863288, 3348789438,\n",
       "        3402021908, 4039909656, 1029769333,  754506277, 1041213980,\n",
       "        2743859447, 2813978009, 2918066783, 1549434097, 1843870560,\n",
       "         141104287,  477507467, 3017451406, 3967226142, 2646531676,\n",
       "         464418531, 3481066940, 4234268280, 1684399923, 1039203251,\n",
       "         398438577, 2097987902, 3918371949, 2658119462, 2231677591,\n",
       "        2501796517, 3384391642,  107303145, 4050737801, 1614847323,\n",
       "         746614629,  368551147, 1842811535,  258020569, 2488089844,\n",
       "        1343718437, 2207051050, 4225304499, 2843477099, 2527811065,\n",
       "        1420458197, 1967478262,  454495644, 2517580336,  794240759,\n",
       "        1337095038, 1954345292, 1764354509, 3142420869, 3874047406,\n",
       "        2879842402, 1037750664, 4019618245, 4001316883, 4218145555,\n",
       "        2345512964, 4108503810, 1621069222,   83227770, 2599013746,\n",
       "        1487037753, 1201918031, 2321217013, 1336689557, 3705536998,\n",
       "        4025283084, 3740920510, 3286175014, 3112332962, 4002190175,\n",
       "        2019642018,  332061239, 3792128892, 2224490825, 3702141353,\n",
       "        2649055813, 2636390777, 2170675347, 4257195129, 1992778483,\n",
       "        4140029962,  232515996, 1302671303, 4063031014, 2171128786,\n",
       "        2397874083,  758916227, 1854457419, 1121777869, 1573097947,\n",
       "        1599896836, 1273920172, 2380487544, 2728574475, 2216309181,\n",
       "        3086248198, 1318538111, 1205411484, 4115721324, 2481071790,\n",
       "        3199085259, 3834981306, 4145222586, 2268520437, 3227476028,\n",
       "         696834362, 2871111729, 3740650564, 2154946529,  599120841,\n",
       "        4272338387, 1809775297, 3572372436, 1480355105,  576386716,\n",
       "         164411516, 1841345923,  155982795,  872458405, 1857204585,\n",
       "        1577634094, 3309618808, 3960122145, 3721404564, 3001803595,\n",
       "         737319290, 4251191614, 3043711759, 2065539714, 2796441677,\n",
       "        3523789414,  492946941,  662681016,  793350467, 3454173900,\n",
       "        4186027408,   77596160, 2074107447, 2514880743, 1345088750,\n",
       "        3339251864, 3530209928, 2041760844, 2924574833, 3234053995,\n",
       "        2439049717, 3516844461, 4268155548, 1001185816, 3043851150,\n",
       "        1550523750,  113802681,  693566469, 2598906885, 2053700582,\n",
       "        1841030164, 2900866453, 1815488263, 4188036562, 3189814293,\n",
       "        2065875750,  577359682, 1310951443,  162680940, 3237377453,\n",
       "         408693171, 3506440820, 3007611025, 4043406271,  227486679,\n",
       "        4268786749, 1390658204, 1695899589, 1316671857, 3319743389,\n",
       "        3212381291,  535065718, 1044066084, 1440683559, 1131840857,\n",
       "        1667628465, 3503554929,  805447998, 2512755983, 3917659711,\n",
       "        1791567921,  530186461, 3029053063, 1695526627,  306622712,\n",
       "         124665207, 3312569088, 3939568107,  760470195, 1611419280,\n",
       "        2795884514,  937826058, 2390923443,  909049890, 1426518453,\n",
       "        3095126326, 4004355016, 1495706296, 4220007705, 2752580593,\n",
       "        4005532944,  415967164, 4114824858, 1958395457, 3199019051,\n",
       "        3403682654, 4010105799,  663886163, 1323912770, 3549793215,\n",
       "        3899135898, 4294118180, 1624860277,  274405240, 1794195846,\n",
       "         124926613, 2282699101, 3169648540,  639420256, 4241012637,\n",
       "        1500483066, 2952586907, 3403828081, 3329329643,  226980057,\n",
       "        3585121780, 4098268101, 1654269113, 2426786205, 1627087432,\n",
       "         354616044, 1573944559, 1704389192, 3728951659, 3810057670,\n",
       "        3093119475,  147696930, 4115551695, 1073253624, 2431099548,\n",
       "        1173051642, 3533126865, 2911790042, 2028431894,  506942947,\n",
       "        3001194556, 3304080616, 3122027236, 3919214500, 2935604665,\n",
       "         773077627, 3383873823, 2458141429, 1220372996, 3876924964,\n",
       "        2804606886,   90162017, 2197685646, 2968760712, 1922413732,\n",
       "        2821410732, 2479108169, 3147239688,  305360811,  980982798,\n",
       "        1442010383, 1086432336, 3629871972, 2054554064,  477502959,\n",
       "        4097268534, 2549950146, 3684285572, 3440543071, 2042917185,\n",
       "        1022534564, 4168326908, 3419797023,   69724330, 1591301007,\n",
       "         386509164, 2568113559, 2714045133, 4018339465], dtype=uint32),\n",
       " 18,\n",
       " 0,\n",
       " 0.0)"
      ]
     },
     "execution_count": 35,
     "metadata": {},
     "output_type": "execute_result"
    }
   ],
   "source": [
    "np.random.get_state()"
   ]
  },
  {
   "cell_type": "code",
   "execution_count": 40,
   "id": "b6fa366b",
   "metadata": {},
   "outputs": [
    {
     "data": {
      "text/plain": [
       "array([1.9151945 , 6.22108771, 4.37727739, 7.85358584, 7.79975808])"
      ]
     },
     "execution_count": 40,
     "metadata": {},
     "output_type": "execute_result"
    },
    {
     "data": {
      "text/plain": [
       "array([-0.94029827, -0.95658428, -0.33060682,  0.87412791,  2.00254961,\n",
       "        0.01086208, -0.86924706,  1.4249841 ,  0.1458091 ,  2.89409095])"
      ]
     },
     "execution_count": 40,
     "metadata": {},
     "output_type": "execute_result"
    }
   ],
   "source": [
    "np.random.seed(1234)\n",
    "np.random.uniform(0, 10, 5)\n",
    "np.random.randn(10)"
   ]
  },
  {
   "cell_type": "code",
   "execution_count": 41,
   "id": "bcf9d489",
   "metadata": {},
   "outputs": [
    {
     "data": {
      "text/plain": [
       "array([1.9151945 , 6.22108771, 4.37727739, 7.85358584, 7.79975808])"
      ]
     },
     "execution_count": 41,
     "metadata": {},
     "output_type": "execute_result"
    },
    {
     "data": {
      "text/plain": [
       "array([-0.94029827, -0.95658428, -0.33060682,  0.87412791,  2.00254961,\n",
       "        0.01086208, -0.86924706,  1.4249841 ,  0.1458091 ,  2.89409095])"
      ]
     },
     "execution_count": 41,
     "metadata": {},
     "output_type": "execute_result"
    }
   ],
   "source": [
    "r = np.random.RandomState(1234)\n",
    "r.uniform(0, 10, 5)\n",
    "r.randn(10)"
   ]
  },
  {
   "cell_type": "code",
   "execution_count": 46,
   "id": "26886ecf",
   "metadata": {},
   "outputs": [
    {
     "data": {
      "text/plain": [
       "array([[ 1.05432679,  2.55546274, -0.02766154],\n",
       "       [ 0.63577871,  3.21999894,  0.22348686],\n",
       "       [ 1.1428329 ,  0.72485469,  0.92849521],\n",
       "       [ 0.65091101,  0.49875232,  0.06184218],\n",
       "       [-0.93236388,  0.22683369, -0.1328085 ]])"
      ]
     },
     "execution_count": 46,
     "metadata": {},
     "output_type": "execute_result"
    },
    {
     "data": {
      "text/plain": [
       "array([[-0.93236388,  0.22683369, -0.1328085 ],\n",
       "       [ 0.63577871,  0.49875232, -0.02766154],\n",
       "       [ 0.65091101,  0.72485469,  0.06184218],\n",
       "       [ 1.05432679,  2.55546274,  0.22348686],\n",
       "       [ 1.1428329 ,  3.21999894,  0.92849521]])"
      ]
     },
     "execution_count": 46,
     "metadata": {},
     "output_type": "execute_result"
    },
    {
     "data": {
      "text/plain": [
       "array([[-0.93236388, -0.1328085 ,  0.22683369],\n",
       "       [-0.02766154,  0.49875232,  0.63577871],\n",
       "       [ 0.06184218,  0.65091101,  0.72485469],\n",
       "       [ 0.22348686,  1.05432679,  2.55546274],\n",
       "       [ 0.92849521,  1.1428329 ,  3.21999894]])"
      ]
     },
     "execution_count": 46,
     "metadata": {},
     "output_type": "execute_result"
    }
   ],
   "source": [
    "arr = np.random.randn(5, 3)\n",
    "arr\n",
    "arr.sort(0)\n",
    "arr\n",
    "np.sort(arr)"
   ]
  },
  {
   "cell_type": "code",
   "execution_count": 47,
   "id": "82e92aa4",
   "metadata": {},
   "outputs": [],
   "source": [
    "arr = np.arange(10)\n",
    "np.save(\"some_array\", arr)"
   ]
  },
  {
   "cell_type": "code",
   "execution_count": 48,
   "id": "79b51f1a",
   "metadata": {},
   "outputs": [
    {
     "data": {
      "text/plain": [
       "array([0, 1, 2, 3, 4, 5, 6, 7, 8, 9])"
      ]
     },
     "execution_count": 48,
     "metadata": {},
     "output_type": "execute_result"
    }
   ],
   "source": [
    "np.load(\"some_array.npy\")"
   ]
  },
  {
   "cell_type": "code",
   "execution_count": 52,
   "id": "b3975f43",
   "metadata": {},
   "outputs": [
    {
     "data": {
      "text/plain": [
       "array([0, 1, 2, 3, 4, 5, 6, 7, 8, 9])"
      ]
     },
     "execution_count": 52,
     "metadata": {},
     "output_type": "execute_result"
    }
   ],
   "source": [
    "np.savez(\"array_archive.npz\", a=arr, b=arr)\n",
    "arch = np.load(\"array_archive.npz\")\n",
    "arch['b']\n",
    "np.savez_compressed(\"arrays_compressed.npz\", a=arr, b=arr)"
   ]
  },
  {
   "cell_type": "code",
   "execution_count": 55,
   "id": "9c401d6b",
   "metadata": {},
   "outputs": [
    {
     "data": {
      "text/plain": [
       "array([[ 3.48736709,  1.71698695, -1.66605624,  1.34125011, -1.6913915 ],\n",
       "       [ 1.71698695,  2.05384837, -0.64211548,  0.09299687, -0.16106435],\n",
       "       [-1.66605624, -0.64211548,  2.22870677, -0.68731308, -0.39846774],\n",
       "       [ 1.34125011,  0.09299687, -0.68731308,  1.43861558, -1.39828686],\n",
       "       [-1.6913915 , -0.16106435, -0.39846774, -1.39828686,  5.79975039]])"
      ]
     },
     "execution_count": 55,
     "metadata": {},
     "output_type": "execute_result"
    },
    {
     "data": {
      "text/plain": [
       "array([[ 3.48736709,  1.71698695, -1.66605624,  1.34125011, -1.6913915 ],\n",
       "       [ 1.71698695,  2.05384837, -0.64211548,  0.09299687, -0.16106435],\n",
       "       [-1.66605624, -0.64211548,  2.22870677, -0.68731308, -0.39846774],\n",
       "       [ 1.34125011,  0.09299687, -0.68731308,  1.43861558, -1.39828686],\n",
       "       [-1.6913915 , -0.16106435, -0.39846774, -1.39828686,  5.79975039]])"
      ]
     },
     "execution_count": 55,
     "metadata": {},
     "output_type": "execute_result"
    },
    {
     "data": {
      "text/plain": [
       "array([[ 1.55814002, -1.03424367,  0.67321335, -0.79080296,  0.2812758 ],\n",
       "       [-1.03424367,  1.23687697, -0.24110568,  0.64417554, -0.12852705],\n",
       "       [ 0.67321335, -0.24110568,  0.97598925,  0.13546124,  0.28934826],\n",
       "       [-0.79080296,  0.64417554,  0.13546124,  1.64268602,  0.1926151 ],\n",
       "       [ 0.2812758 , -0.12852705,  0.28934826,  0.1926151 ,  0.31719873]])"
      ]
     },
     "execution_count": 55,
     "metadata": {},
     "output_type": "execute_result"
    },
    {
     "data": {
      "text/plain": [
       "array([[ 1.00000000e+00, -7.07407693e-16, -8.73886678e-17,\n",
       "        -3.62442624e-17,  1.34721235e-16],\n",
       "       [ 6.33528920e-17,  1.00000000e+00, -1.83453817e-16,\n",
       "         1.19917615e-16, -2.41662030e-17],\n",
       "       [-1.83270651e-16,  2.76085559e-16,  1.00000000e+00,\n",
       "        -1.63012271e-16, -1.49997960e-18],\n",
       "       [ 5.63376093e-17, -4.86996412e-16, -5.43292248e-19,\n",
       "         1.00000000e+00, -7.91631948e-17],\n",
       "       [ 6.23369241e-17,  7.29928316e-18, -1.72732958e-16,\n",
       "        -3.49241802e-17,  1.00000000e+00]])"
      ]
     },
     "execution_count": 55,
     "metadata": {},
     "output_type": "execute_result"
    },
    {
     "data": {
      "text/plain": [
       "array([[-4.74818638, -2.31270409,  2.29007401, -2.16436364,  3.62165221],\n",
       "       [ 0.        , -1.50487193,  0.20863387,  1.13716453, -2.87905163],\n",
       "       [ 0.        ,  0.        , -1.87040057, -0.24677208,  3.74776885],\n",
       "       [ 0.        ,  0.        ,  0.        , -0.51605317,  0.18142507],\n",
       "       [ 0.        ,  0.        ,  0.        ,  0.        ,  1.77590675]])"
      ]
     },
     "execution_count": 55,
     "metadata": {},
     "output_type": "execute_result"
    }
   ],
   "source": [
    "from numpy.linalg import inv, qr\n",
    "\n",
    "X = np.random.randn(5, 5)\n",
    "mat = X.T.dot(X)\n",
    "mat\n",
    "mat1 = np.dot(X.T, X)\n",
    "mat1\n",
    "inv(mat)\n",
    "mat.dot(inv(mat))\n"
   ]
  },
  {
   "cell_type": "code",
   "execution_count": 56,
   "id": "dc8ff4d9",
   "metadata": {},
   "outputs": [
    {
     "data": {
      "text/plain": [
       "array([[-0.73446298, -0.01222125, -0.00987387,  0.45912685,  0.49951959],\n",
       "       [-0.361609  , -0.80907466, -0.18969   , -0.35574686, -0.22825205],\n",
       "       [ 0.35088265, -0.11254929, -0.77450849, -0.01741017,  0.51385553],\n",
       "       [-0.2824763 ,  0.37231555,  0.06314107, -0.81276812,  0.34206646],\n",
       "       [ 0.35621843, -0.44041188,  0.60005835, -0.04185183,  0.56331537]])"
      ]
     },
     "execution_count": 56,
     "metadata": {},
     "output_type": "execute_result"
    },
    {
     "data": {
      "text/plain": [
       "array([[-4.74818638, -2.31270409,  2.29007401, -2.16436364,  3.62165221],\n",
       "       [ 0.        , -1.50487193,  0.20863387,  1.13716453, -2.87905163],\n",
       "       [ 0.        ,  0.        , -1.87040057, -0.24677208,  3.74776885],\n",
       "       [ 0.        ,  0.        ,  0.        , -0.51605317,  0.18142507],\n",
       "       [ 0.        ,  0.        ,  0.        ,  0.        ,  1.77590675]])"
      ]
     },
     "execution_count": 56,
     "metadata": {},
     "output_type": "execute_result"
    }
   ],
   "source": [
    "q, r = qr(mat)\n",
    "q\n",
    "r"
   ]
  },
  {
   "cell_type": "code",
   "execution_count": 57,
   "id": "e7ca3888",
   "metadata": {},
   "outputs": [
    {
     "name": "stdout",
     "output_type": "stream",
     "text": [
      "[[ 0.  0.  0.  1.]\n",
      " [ 0.  0.  0.  0.]\n",
      " [ 0.  0.  0.  0.]\n",
      " [-1.  0.  0.  0.]]\n"
     ]
    }
   ],
   "source": [
    "import numpy as np\n",
    "\n",
    "# 定义一个奇异阵 A\n",
    "A = np.zeros((4, 4))\n",
    "A[0, -1] = 1\n",
    "A[-1, 0] = -1\n",
    "A = np.matrix(A)\n",
    "print(A)"
   ]
  },
  {
   "cell_type": "code",
   "execution_count": 59,
   "id": "427e8b91",
   "metadata": {},
   "outputs": [
    {
     "name": "stdout",
     "output_type": "stream",
     "text": [
      "[[ 0.  0.  0. -1.]\n",
      " [ 0.  0.  0.  0.]\n",
      " [ 0.  0.  0.  0.]\n",
      " [ 1.  0.  0.  0.]]\n"
     ]
    }
   ],
   "source": [
    "print(np.linalg.pinv(A))"
   ]
  }
 ],
 "metadata": {
  "kernelspec": {
   "display_name": "Python 3 (ipykernel)",
   "language": "python",
   "name": "python3"
  },
  "language_info": {
   "codemirror_mode": {
    "name": "ipython",
    "version": 3
   },
   "file_extension": ".py",
   "mimetype": "text/x-python",
   "name": "python",
   "nbconvert_exporter": "python",
   "pygments_lexer": "ipython3",
   "version": "3.9.6"
  },
  "varInspector": {
   "cols": {
    "lenName": 16,
    "lenType": 16,
    "lenVar": 40
   },
   "kernels_config": {
    "python": {
     "delete_cmd_postfix": "",
     "delete_cmd_prefix": "del ",
     "library": "var_list.py",
     "varRefreshCmd": "print(var_dic_list())"
    },
    "r": {
     "delete_cmd_postfix": ") ",
     "delete_cmd_prefix": "rm(",
     "library": "var_list.r",
     "varRefreshCmd": "cat(var_dic_list()) "
    }
   },
   "types_to_exclude": [
    "module",
    "function",
    "builtin_function_or_method",
    "instance",
    "_Feature"
   ],
   "window_display": false
  }
 },
 "nbformat": 4,
 "nbformat_minor": 5
}
